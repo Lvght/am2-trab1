{
  "cells": [
    {
      "cell_type": "markdown",
      "metadata": {},
      "source": [
        "<p align=\"center\">\n",
        "  26 de Novembro de 2021\n",
        "</p>\n",
        "\n",
        "<br>\n",
        "<br>\n",
        "\n",
        "<p align=\"center\">\n",
        "  <img height=\"150\" src=\"https://www.ccs.ufscar.br/imagens/ufscar-preto.png\">\n",
        "</p>\n",
        "\n",
        "<p align=\"center\">\n",
        "  <img height=\"150\" src=\"https://site.dc.ufscar.br/static/media/LOGO-DC.295bfc37.svg\">\n",
        "</p>\n",
        "\n",
        "---\n",
        "\n",
        "<h1 align=\"center\">Trabalho de Aprendizado de Máquina 2</h1>\n",
        "\n",
        "\n",
        "<h3 align=\"center\">Profº. Dr. Diego Furtado Silva</h3>\n",
        "\n",
        "\n",
        "<p align=\"center\">\n",
        "  Lucas Machado Cid (769841) <br>\n",
        "  Victória De Martini de Souza (759378) <br>\n",
        "  Vinicius Quaresma da Luz (769836)\n",
        "</p>\n",
        "\n",
        "---"
      ]
    },
    {
      "cell_type": "markdown",
      "metadata": {},
      "source": [
        "O código abaixo importa as dependências necessárias para a posterior execução do código. Antes de executar, certifique-se de ter instalado as dependências declaradas no arquivo `requirements.txt`."
      ]
    },
    {
      "cell_type": "markdown",
      "metadata": {},
      "source": [
        "# Declaração de PC bom"
      ]
    },
    {
      "cell_type": "code",
      "execution_count": 49,
      "metadata": {},
      "outputs": [],
      "source": [
        "import os\n",
        "pc_bom = os.sysconf('SC_PAGE_SIZE') * os.sysconf('SC_PHYS_PAGES')/(1024.**3) > 11"
      ]
    },
    {
      "cell_type": "code",
      "execution_count": 50,
      "metadata": {
        "colab": {
          "base_uri": "https://localhost:8080/"
        },
        "id": "icL9rPa_IhMa",
        "outputId": "305d3915-ed0f-4151-9bb4-24bd33e46de9"
      },
      "outputs": [],
      "source": [
        "import csv\n",
        "\n",
        "import numpy as np\n",
        "from sklearn.ensemble import RandomForestClassifier\n",
        "from sklearn.impute import SimpleImputer\n",
        "from sklearn.metrics import accuracy_score, hamming_loss, precision_score, recall_score\n",
        "from skmultilearn.problem_transform import (BinaryRelevance, ClassifierChain,\n",
        "                                            LabelPowerset)"
      ]
    },
    {
      "cell_type": "markdown",
      "metadata": {},
      "source": [
        "As funções abaixo atuam como métodos de conveniência, além de servirem para que o código fique bem modularizado."
      ]
    },
    {
      "cell_type": "code",
      "execution_count": 51,
      "metadata": {
        "id": "0bztLmluIhMt"
      },
      "outputs": [],
      "source": [
        "\n",
        "def get_data(fileName, possible_labels, total_attributes, limit_instances=0):\n",
        "\n",
        "  # Abre o arquivo\n",
        "  file = open('datasets/' + fileName)\n",
        "  csvreader = csv.reader(file, delimiter =' ')\n",
        "\n",
        "  data = []\n",
        "\n",
        "  # Coloca o csv lido em um array\n",
        "  # O csv tem uma última coluna vazia, por isso a descartamos no processo\n",
        "  for row in csvreader:\n",
        "    data.append(row[:-1])\n",
        "\n",
        "  X = []\n",
        "  Y = []\n",
        "\n",
        "  # Pega os dados crus e os divide em atributos e rótulos.\n",
        "  iteration_limit = len(data) if limit_instances == 0 else limit_instances\n",
        "  for i in range(iteration_limit):\n",
        "\n",
        "    # Inicializa o array de atributos para cada elemento\n",
        "    lx = []\n",
        "    for j in range(total_attributes):\n",
        "      lx.append(np.nan)\n",
        "\n",
        "    # Trata os valores para se encaixar no modelo de dados aceito pelo sklearn\n",
        "    for j in range(1, len(data[i])):\n",
        "      attribute = int(data[i][j].split(\":\")[0]) - 1\n",
        "      lx[attribute] = float(data[i][j].split(\":\")[1])\n",
        "\n",
        "    X.append(lx)\n",
        "\n",
        "    # Os rótulos obtidos pelo csv estão todos juntos no primeiro atributo, separados por virgula\n",
        "    # Para cada um dos rótulos possíveis (definido em possible_labels), verifica se o elemento contém ou não cada um dos rótulus\n",
        "    # e cria novas colunas na tabela com valores 0 ou 1 que indicam se o elemento tem ou não determinado rótulo\n",
        "    ly = []\n",
        "    for j in range(len(possible_labels)):\n",
        "      ly.append(1 if possible_labels[j] in data[i][0].split(\",\") else 0)\n",
        "    Y.append(ly)\n",
        "\n",
        "  # Para valores ausentes, coloca-se a média dos outros elementos para aquele atributo\n",
        "  imp = SimpleImputer(missing_values=np.nan, strategy='mean')\n",
        "  X = imp.fit_transform(X)\n",
        "\n",
        "  return [X, Y]"
      ]
    },
    {
      "cell_type": "code",
      "execution_count": 52,
      "metadata": {
        "id": "PiTP6yB_IhMw"
      },
      "outputs": [],
      "source": [
        "def get_metrics(classifier, X_train, X_test, Y_train, Y_test):\n",
        "    classifier.fit(np.array(X_train), np.array(Y_train))\n",
        "\n",
        "    pred = classifier.predict(X_test)\n",
        "    \n",
        "    accuracy = accuracy_score(Y_test, pred)\n",
        "    hl = hamming_loss(Y_test, pred)\n",
        "    precision = precision_score(Y_test, pred, average='macro', zero_division=0)\n",
        "    recall = recall_score(Y_test, pred, average='macro', zero_division=0)\n",
        "\n",
        "    return {\n",
        "        'accuracy': accuracy,\n",
        "        'hamming_loss': hl,\n",
        "        'precision': precision,\n",
        "        'recall': recall\n",
        "    }"
      ]
    },
    {
      "cell_type": "code",
      "execution_count": 53,
      "metadata": {
        "id": "BtqZdcLpIhMy"
      },
      "outputs": [],
      "source": [
        "class RunResult:\n",
        "  algorithm: str\n",
        "  dataset: str\n",
        "  accuracy_score: float\n",
        "  hamming_loss: float\n",
        "  precision: float\n",
        "  recall: float\n",
        "\n",
        "  def __init__(self, algorithm, dataset, accuracy_score, hamming_loss, precision, recall):\n",
        "    self.algorithm = algorithm\n",
        "    self.dataset = dataset\n",
        "    self.accuracy_score = accuracy_score\n",
        "    self.hamming_loss = hamming_loss\n",
        "    self.precision = precision\n",
        "    self.recall = recall\n",
        "  \n",
        "  def __str__(self):\n",
        "    return f'algorithm: {self.algorithm}, dataset: {self.dataset}, accuracy_score: {self.accuracy_score}, hamming_loss: {self.hamming_loss}, precision: {self.precision}, recall: {self.recall}'\n",
        "  \n",
        "\n",
        "results = [] "
      ]
    },
    {
      "cell_type": "markdown",
      "metadata": {},
      "source": [
        "Os classificadores que serão utilizados com cada um dos 3 algoritmos selecionados são armazenados na lista abaixo para uso posterior."
      ]
    },
    {
      "cell_type": "code",
      "execution_count": 54,
      "metadata": {
        "id": "r95Hu5NVKkPN"
      },
      "outputs": [],
      "source": [
        "classifiers = [{\"name\": \"Classifier Chain\", \"model\": ClassifierChain(RandomForestClassifier())}, \n",
        "               {\"name\": \"Binary Relevance\", \"model\": BinaryRelevance(RandomForestClassifier())}, \n",
        "               {\"name\": \"Label Powerset\", \"model\": LabelPowerset(RandomForestClassifier())}]"
      ]
    },
    {
      "cell_type": "code",
      "execution_count": 55,
      "metadata": {},
      "outputs": [],
      "source": [
        "def execute(dataset: str, X_train, X_test, Y_train, Y_test):\n",
        "  for classifier in classifiers:\n",
        "    result = get_metrics(classifier['model'], X_train, X_test, Y_train, Y_test)\n",
        "\n",
        "    results.append(RunResult(dataset, classifier['name'], result['accuracy'], result['hamming_loss'], result['precision'], result['recall']))"
      ]
    },
    {
      "cell_type": "markdown",
      "metadata": {
        "id": "NDNHsQOIIhM0"
      },
      "source": [
        "## Dataset Yeast\n",
        "\n",
        "\n",
        "---\n",
        "O dataset yeast é um conjunto de dados de leveduras(fermentos) que consiste em uma interação proteína-proteína. Os métodos de detecção de interação levaram à descoberta de milhares de interações entre proteínas, e ajudam fomentar a relevância em conjuntos de dados de grandes escala para a biologia atual.\n",
        "\n",
        "![levedura.jpg](data:image/jpeg;base64,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)\n"
      ]
    },
    {
      "cell_type": "code",
      "execution_count": 56,
      "metadata": {
        "colab": {
          "base_uri": "https://localhost:8080/"
        },
        "id": "VondjUCfIhM5",
        "outputId": "e14476a9-1608-4ec2-da97-bab7c52a1a86"
      },
      "outputs": [],
      "source": [
        "# Dataset Yeast\n",
        "possible_labels = []\n",
        "total_attributes = 103\n",
        "\n",
        "for i in range(15):\n",
        "  possible_labels.append(str(i))\n",
        "\n",
        "X_train, Y_train = get_data('yeast/yeast_train', possible_labels, total_attributes)\n",
        "X_test, Y_test = get_data('yeast/yeast_test', possible_labels, total_attributes)\n",
        "\n",
        "execute('yeast', X_train, X_test, Y_train, Y_test)"
      ]
    },
    {
      "cell_type": "markdown",
      "metadata": {
        "id": "E4OihSgGIhM6"
      },
      "source": [
        "# Scene"
      ]
    },
    {
      "cell_type": "code",
      "execution_count": 57,
      "metadata": {
        "id": "JiTCgJI7IhM8",
        "pycharm": {
          "name": "#%%\n"
        }
      },
      "outputs": [],
      "source": [
        "possible_labels = ['0', '1', '2', '3', '4', '5']\n",
        "\n",
        "X_test, Y_test = get_data('scene/scene_test', possible_labels, 294)\n",
        "X_train, Y_train = get_data('scene/scene_train', possible_labels, 294)\n",
        "\n",
        "execute('scene', X_train, X_test, Y_train, Y_test)\n"
      ]
    },
    {
      "cell_type": "markdown",
      "metadata": {
        "id": "s_jATyGVIhM9"
      },
      "source": [
        "# TMC 2007"
      ]
    },
    {
      "cell_type": "code",
      "execution_count": 58,
      "metadata": {
        "id": "nFOJ5n7tIhM-"
      },
      "outputs": [],
      "source": [
        "if pc_bom:\n",
        "    possible_labels = []\n",
        "\n",
        "    for i in range(101):\n",
        "        possible_labels.append(str(i))\n",
        "\n",
        "    X_test, Y_test = get_data('tmc2007/tmc2007_test', possible_labels, 47152, limit_instances=1000)\n",
        "    X_train, Y_train = get_data('tmc2007/tmc2007_train', possible_labels, 47152, limit_instances=5000)\n",
        "\n",
        "\n",
        "    execute('tmc2007', X_train, X_test, Y_train, Y_test)"
      ]
    },
    {
      "cell_type": "markdown",
      "metadata": {
        "id": "giQ7E94RIhM_"
      },
      "source": [
        "# Emotions"
      ]
    },
    {
      "cell_type": "code",
      "execution_count": 60,
      "metadata": {
        "id": "trXTHMOtIhM_"
      },
      "outputs": [],
      "source": [
        "# Dataset emotions\n",
        "possible_labels = [\"amazed-suprised\", \"happy-pleased\", \"relaxing-calm\", \n",
        "                    \"quiet-still\", \"sad-lonely\", \"angry-aggresive\"]\n",
        "total_attributes = 73\n",
        "\n",
        "X_test, Y_test = get_data(\"emotions/emotions_test\", possible_labels, total_attributes)\n",
        "X_train, Y_train = get_data(\"emotions/emotions_train\", possible_labels, total_attributes)\n",
        "\n",
        "execute('emotions', X_train, X_test, Y_train, Y_test)"
      ]
    },
    {
      "cell_type": "markdown",
      "metadata": {
        "id": "GJuFwvxKIhNA"
      },
      "source": [
        "# Mediamill"
      ]
    },
    {
      "cell_type": "code",
      "execution_count": 63,
      "metadata": {
        "id": "fFdaJf6JIhNA"
      },
      "outputs": [],
      "source": [
        "# Dataset mediamill\n",
        "possible_labels = []\n",
        "total_attributes = 120\n",
        "\n",
        "for i in range(101):\n",
        "  possible_labels.append(str(i))\n",
        "\n",
        "X_train, Y_train = get_data(\"mediamill/mediamill_train\", possible_labels, total_attributes, limit_instances=500)\n",
        "X_test, Y_test = get_data(\"mediamill/mediamill_test\", possible_labels, total_attributes, limit_instances=100)\n",
        "\n",
        "execute('mediamill', X_train, X_test, Y_train, Y_test)"
      ]
    },
    {
      "cell_type": "code",
      "execution_count": 64,
      "metadata": {},
      "outputs": [
        {
          "name": "stdout",
          "output_type": "stream",
          "text": [
            "algorithm: yeast, dataset: Classifier Chain, accuracy_score: 0.21046892039258452, hamming_loss: 0.1811704834605598, precision: 0.5817544896157092, recall: 0.31851450719047825\n",
            "algorithm: yeast, dataset: Binary Relevance, accuracy_score: 0.17557251908396945, hamming_loss: 0.18087968011632133, precision: 0.6384219292470527, recall: 0.2965350658456567\n",
            "algorithm: yeast, dataset: Label Powerset, accuracy_score: 0.2737186477644493, hamming_loss: 0.19272991639403853, precision: 0.5160654662814264, recall: 0.3677294874353405\n",
            "algorithm: scene, dataset: Classifier Chain, accuracy_score: 0.5560200668896321, hamming_loss: 0.08904682274247491, precision: 0.8899545255491539, recall: 0.5783652917873551\n",
            "algorithm: scene, dataset: Binary Relevance, accuracy_score: 0.5317725752508361, hamming_loss: 0.09044035674470458, precision: 0.8947108497302075, recall: 0.5656486252410441\n",
            "algorithm: scene, dataset: Label Powerset, accuracy_score: 0.7207357859531772, hamming_loss: 0.08291527313266443, precision: 0.7950420055234065, recall: 0.7397090975542242\n",
            "algorithm: emotions, dataset: Classifier Chain, accuracy_score: 0.3217821782178218, hamming_loss: 0.18976897689768976, precision: 0.7901158033760974, recall: 0.5970499110396088\n",
            "algorithm: emotions, dataset: Binary Relevance, accuracy_score: 0.2722772277227723, hamming_loss: 0.19554455445544555, precision: 0.7921006474175553, recall: 0.5684381573928529\n",
            "algorithm: emotions, dataset: Label Powerset, accuracy_score: 0.3712871287128713, hamming_loss: 0.19801980198019803, precision: 0.6852701079400486, recall: 0.7161634511714423\n",
            "algorithm: mediamill, dataset: Classifier Chain, accuracy_score: 0.07, hamming_loss: 0.039504950495049505, precision: 0.04565936800072791, recall: 0.032546434366939\n",
            "algorithm: mediamill, dataset: Binary Relevance, accuracy_score: 0.05, hamming_loss: 0.039603960396039604, precision: 0.057403628771201205, recall: 0.03222940957690239\n",
            "algorithm: mediamill, dataset: Label Powerset, accuracy_score: 0.01, hamming_loss: 0.05643564356435644, precision: 0.06346790464852463, recall: 0.04428343028336305\n"
          ]
        }
      ],
      "source": [
        "for i in results:\n",
        "    print(i)"
      ]
    }
  ],
  "metadata": {
    "colab": {
      "name": "Trabalho1.ipynb",
      "provenance": []
    },
    "interpreter": {
      "hash": "c9a8e7a37363bcf7f7834afbb21e5caff3afdecb748e2a4bad18eed61cb1d104"
    },
    "kernelspec": {
      "display_name": "Python 3.9.7 ('.venv': venv)",
      "language": "python",
      "name": "python3"
    },
    "language_info": {
      "codemirror_mode": {
        "name": "ipython",
        "version": 3
      },
      "file_extension": ".py",
      "mimetype": "text/x-python",
      "name": "python",
      "nbconvert_exporter": "python",
      "pygments_lexer": "ipython3",
      "version": "3.9.7"
    },
    "orig_nbformat": 4
  },
  "nbformat": 4,
  "nbformat_minor": 0
}
