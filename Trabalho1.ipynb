{
  "cells": [
    {
      "cell_type": "code",
      "execution_count": 2,
      "metadata": {
        "colab": {
          "base_uri": "https://localhost:8080/"
        },
        "id": "icL9rPa_IhMa",
        "outputId": "305d3915-ed0f-4151-9bb4-24bd33e46de9"
      },
      "outputs": [
        {
          "name": "stdout",
          "output_type": "stream",
          "text": [
            "Collecting scikit-multilearn\n",
            "  Downloading scikit_multilearn-0.2.0-py3-none-any.whl (89 kB)\n",
            "\u001b[?25l\r\u001b[K     |███▊                            | 10 kB 18.9 MB/s eta 0:00:01\r\u001b[K     |███████▍                        | 20 kB 7.8 MB/s eta 0:00:01\r\u001b[K     |███████████                     | 30 kB 5.2 MB/s eta 0:00:01\r\u001b[K     |██████████████▊                 | 40 kB 4.9 MB/s eta 0:00:01\r\u001b[K     |██████████████████▍             | 51 kB 2.2 MB/s eta 0:00:01\r\u001b[K     |██████████████████████          | 61 kB 2.7 MB/s eta 0:00:01\r\u001b[K     |█████████████████████████▊      | 71 kB 2.8 MB/s eta 0:00:01\r\u001b[K     |█████████████████████████████▍  | 81 kB 3.1 MB/s eta 0:00:01\r\u001b[K     |████████████████████████████████| 89 kB 2.4 MB/s \n",
            "\u001b[?25hInstalling collected packages: scikit-multilearn\n",
            "Successfully installed scikit-multilearn-0.2.0\n"
          ]
        }
      ],
      "source": [
        "import csv\n",
        "\n",
        "import numpy as np\n",
        "from sklearn.ensemble import RandomForestClassifier\n",
        "from sklearn.impute import SimpleImputer\n",
        "from sklearn.metrics import accuracy_score, hamming_loss, precision_score, recall_score\n",
        "from skmultilearn.problem_transform import (BinaryRelevance, ClassifierChain,\n",
        "                                            LabelPowerset)"
      ]
    },
    {
      "cell_type": "code",
      "execution_count": 3,
      "metadata": {
        "id": "0bztLmluIhMt"
      },
      "outputs": [],
      "source": [
        "\n",
        "def getData(fileName, possiible_labels, total_attributes, limit_instances=0):\n",
        "\n",
        "  # Abre o arquivo\n",
        "  file = open('datasets/' + fileName)\n",
        "  csvreader = csv.reader(file, delimiter =' ')\n",
        "\n",
        "  data = []\n",
        "\n",
        "  # Coloca o csv lido em um array\n",
        "  # O csv tem uma última coluna vazia, por isso a descartamos no processo\n",
        "  for row in csvreader:\n",
        "    data.append(row[:-1])\n",
        "\n",
        "  X = []\n",
        "  Y = []\n",
        "\n",
        "  # Pega os dados crus e os divide em atributos e rótulos.\n",
        "  iteration_limit = len(data) if limit_instances == 0 else limit_instances\n",
        "  for i in range(iteration_limit):\n",
        "\n",
        "    # Inicializa o array de atributos para cada elemento\n",
        "    lx = []\n",
        "    for j in range(total_attributes):\n",
        "      lx.append(np.nan)\n",
        "\n",
        "    # Trata os valores para se encaixar no modelo de dados aceito pelo sklearn\n",
        "    for j in range(1, len(data[i])):\n",
        "      attribute = int(data[i][j].split(\":\")[0]) - 1\n",
        "      lx[attribute] = float(data[i][j].split(\":\")[1])\n",
        "\n",
        "    X.append(lx)\n",
        "\n",
        "    # Os rótulos obtidos pelo csv estão todos juntos no primeiro atributo, separados por virgula\n",
        "    # Para cada um dos rótulos possíveis (definido em possible_labels), verifica se o elemento contém ou não cada um dos rótulus\n",
        "    # e cria novas colunas na tabela com valores 0 ou 1 que indicam se o elemento tem ou não determinado rótulo\n",
        "    ly = []\n",
        "    for j in range(len(possible_labels)):\n",
        "      ly.append(1 if possible_labels[j] in data[i][0].split(\",\") else 0)\n",
        "    Y.append(ly)\n",
        "\n",
        "  # Para valores ausentes, coloca-se a média dos outros elementos para aquele atributo\n",
        "  imp = SimpleImputer(missing_values=np.nan, strategy='mean')\n",
        "  X = imp.fit_transform(X)\n",
        "\n",
        "  return [X, Y]"
      ]
    },
    {
      "cell_type": "code",
      "execution_count": 4,
      "metadata": {
        "id": "PiTP6yB_IhMw"
      },
      "outputs": [],
      "source": [
        "def execute(classifier, X_train, X_test, Y_train, Y_test):\n",
        "    classifier.fit(np.array(X_train), np.array(Y_train))\n",
        "\n",
        "    pred = classifier.predict(X_test)\n",
        "    \n",
        "    accuracy = accuracy_score(Y_test, pred)\n",
        "    hl = hamming_loss(Y_test, pred)\n",
        "    precision = precision_score(Y_test, pred, average='macro')\n",
        "    recall = recall_score(Y_test, pred, average='macro')\n",
        "\n",
        "    return {\n",
        "        'accuracy': accuracy,\n",
        "        'hamming_loss': hl,\n",
        "        'precision': precision,\n",
        "        'recall': recall\n",
        "    }"
      ]
    },
    {
      "cell_type": "code",
      "execution_count": null,
      "metadata": {
        "id": "BtqZdcLpIhMy"
      },
      "outputs": [],
      "source": [
        "class RunResult:\n",
        "  algorithm: str\n",
        "  dataset: str\n",
        "  accuracy_score: float\n",
        "  hamming_loss: float\n",
        "  precision: float\n",
        "  recall: float\n",
        "\n",
        "  def __init__(self, algorithm, dataset, accuracy_score, hamming_loss, precision, recall):\n",
        "    self.algorithm = algorithm\n",
        "    self.dataset = dataset\n",
        "    self.accuracy_score = accuracy_score\n",
        "    self.hamming_loss = hamming_loss\n",
        "    self.precision = precision\n",
        "    self.recall = recall\n",
        "\n",
        "results = []"
      ]
    },
    {
      "cell_type": "code",
      "execution_count": 9,
      "metadata": {
        "id": "r95Hu5NVKkPN"
      },
      "outputs": [],
      "source": [
        "classifiers = [{\"name\": \"Classifier Chain\", \"model\": ClassifierChain(RandomForestClassifier())}, \n",
        "               {\"name\": \"Binary Relevance\", \"model\": BinaryRelevance(RandomForestClassifier())}, \n",
        "               {\"name\": \"Label Powerset\", \"model\": LabelPowerset(RandomForestClassifier())}]"
      ]
    },
    {
      "cell_type": "markdown",
      "metadata": {
        "id": "NDNHsQOIIhM0"
      },
      "source": [
        "## Dataset Yeast\n",
        "\n",
        "\n",
        "---\n",
        "O dataset yeast é um conjunto de dados de leveduras(fermentos) que consiste em uma interação proteína-proteína. Os métodos de detecção de interação levaram à descoberta de milhares de interações entre proteínas, e ajudam fomentar a relevância em conjuntos de dados de grandes escala para a biologia atual.\n",
        "\n",
        "![levedura.jpg](data:image/jpeg;base64,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)\n"
      ]
    },
    {
      "cell_type": "code",
      "execution_count": 12,
      "metadata": {
        "colab": {
          "base_uri": "https://localhost:8080/"
        },
        "id": "VondjUCfIhM5",
        "outputId": "e14476a9-1608-4ec2-da97-bab7c52a1a86"
      },
      "outputs": [
        {
          "name": "stderr",
          "output_type": "stream",
          "text": [
            "/usr/local/lib/python3.7/dist-packages/sklearn/metrics/_classification.py:1318: UndefinedMetricWarning: Precision is ill-defined and being set to 0.0 in labels with no predicted samples. Use `zero_division` parameter to control this behavior.\n",
            "  _warn_prf(average, modifier, msg_start, len(result))\n",
            "/usr/local/lib/python3.7/dist-packages/sklearn/metrics/_classification.py:1318: UndefinedMetricWarning: Recall is ill-defined and being set to 0.0 in labels with no true samples. Use `zero_division` parameter to control this behavior.\n",
            "  _warn_prf(average, modifier, msg_start, len(result))\n"
          ]
        },
        {
          "name": "stdout",
          "output_type": "stream",
          "text": [
            "Classifier Chain {'accuracy': 0.21046892039258452, 'hamming_loss': 0.18102508178844057, 'precision': 0.5824324517383631, 'recall': 0.3084554012336902}\n"
          ]
        },
        {
          "name": "stderr",
          "output_type": "stream",
          "text": [
            "/usr/local/lib/python3.7/dist-packages/sklearn/metrics/_classification.py:1318: UndefinedMetricWarning: Precision is ill-defined and being set to 0.0 in labels with no predicted samples. Use `zero_division` parameter to control this behavior.\n",
            "  _warn_prf(average, modifier, msg_start, len(result))\n",
            "/usr/local/lib/python3.7/dist-packages/sklearn/metrics/_classification.py:1318: UndefinedMetricWarning: Recall is ill-defined and being set to 0.0 in labels with no true samples. Use `zero_division` parameter to control this behavior.\n",
            "  _warn_prf(average, modifier, msg_start, len(result))\n"
          ]
        },
        {
          "name": "stdout",
          "output_type": "stream",
          "text": [
            "Binary Relevance {'accuracy': 0.1723009814612868, 'hamming_loss': 0.17949836423118865, 'precision': 0.6583924649609207, 'recall': 0.29691844850470656}\n",
            "Label Powerset {'accuracy': 0.2693565976008724, 'hamming_loss': 0.19047619047619047, 'precision': 0.5189303235705965, 'recall': 0.3759485283568647}\n"
          ]
        },
        {
          "name": "stderr",
          "output_type": "stream",
          "text": [
            "/usr/local/lib/python3.7/dist-packages/sklearn/metrics/_classification.py:1318: UndefinedMetricWarning: Precision is ill-defined and being set to 0.0 in labels with no predicted samples. Use `zero_division` parameter to control this behavior.\n",
            "  _warn_prf(average, modifier, msg_start, len(result))\n",
            "/usr/local/lib/python3.7/dist-packages/sklearn/metrics/_classification.py:1318: UndefinedMetricWarning: Recall is ill-defined and being set to 0.0 in labels with no true samples. Use `zero_division` parameter to control this behavior.\n",
            "  _warn_prf(average, modifier, msg_start, len(result))\n"
          ]
        }
      ],
      "source": [
        "# Dataset Yeast\n",
        "possible_labels = []\n",
        "total_attributes = 103\n",
        "\n",
        "for i in range(15):\n",
        "  possible_labels.append(str(i))\n",
        "\n",
        "X_train, Y_train = getData(\"yeast/yeast_train\", possible_labels, total_attributes)\n",
        "X_test, Y_test = getData(\"yeast/yeast_test\", possible_labels, total_attributes)\n",
        "\n",
        "for classifier in classifiers:\n",
        "  print(classifier[\"name\"], execute(classifier[\"model\"], X_train, X_test, Y_train, Y_test))"
      ]
    },
    {
      "cell_type": "markdown",
      "metadata": {
        "id": "E4OihSgGIhM6"
      },
      "source": [
        "# Scene"
      ]
    },
    {
      "cell_type": "code",
      "execution_count": null,
      "metadata": {
        "id": "JiTCgJI7IhM8",
        "pycharm": {
          "name": "#%%\n"
        }
      },
      "outputs": [],
      "source": [
        "possible_labels = ['0', '1', '2', '3', '4', '5']\n",
        "\n",
        "X_test, Y_test = getData('scene/scene_test', possible_labels, 294)\n",
        "X_train, Y_train = getData('scene/scene_train', possible_labels, 294)\n",
        "\n",
        "for classifier in classifiers:\n",
        "  print(classifier[\"name\"], execute(classifier[\"model\"], X_train, X_test, Y_train, Y_test))"
      ]
    },
    {
      "cell_type": "markdown",
      "metadata": {
        "id": "s_jATyGVIhM9"
      },
      "source": [
        "# TMC 2007"
      ]
    },
    {
      "cell_type": "code",
      "execution_count": null,
      "metadata": {
        "id": "nFOJ5n7tIhM-"
      },
      "outputs": [],
      "source": [
        "possible_labels = []\n",
        "\n",
        "for i in range(101):\n",
        "    possible_labels.append(str(i))\n",
        "\n",
        "X_test, Y_test = getData('tmc2007/tmc2007_test', possible_labels, 47152, limit_instances=1000)\n",
        "X_train, Y_train = getData('tmc2007/tmc2007_train', possible_labels, 47152, limit_instances=5000)\n",
        "\n",
        "for classifier in classifiers:\n",
        "  print(classifier[\"name\"], execute(classifier[\"model\"], X_train, X_test, Y_train, Y_test))"
      ]
    },
    {
      "cell_type": "markdown",
      "metadata": {
        "id": "giQ7E94RIhM_"
      },
      "source": [
        "# Emotions"
      ]
    },
    {
      "cell_type": "code",
      "execution_count": null,
      "metadata": {
        "id": "trXTHMOtIhM_"
      },
      "outputs": [],
      "source": [
        "# Dataset emotions\n",
        "possible_labels = [\"amazed-suprised\", \"happy-pleased\", \"relaxing-calm\", \n",
        "                    \"quiet-still\", \"sad-lonely\", \"angry-aggresive\"]\n",
        "total_attributes = 73\n",
        "\n",
        "X_test, Y_test = getData(\"emotions/emotions_test.csv\", possible_labels, total_attributes)\n",
        "X_train, Y_train = getData(\"emotions/emotions_train.csv\", possible_labels, total_attributes)\n",
        "\n",
        "for classifier in classifiers:\n",
        "  print(classifier[\"name\"], execute(classifier[\"model\"], X_train, X_test, Y_train, Y_test))"
      ]
    },
    {
      "cell_type": "markdown",
      "metadata": {
        "id": "GJuFwvxKIhNA"
      },
      "source": [
        "# Mediamill"
      ]
    },
    {
      "cell_type": "code",
      "execution_count": null,
      "metadata": {
        "id": "fFdaJf6JIhNA"
      },
      "outputs": [],
      "source": [
        "# Dataset mediamill\n",
        "possible_labels = []\n",
        "total_attributes = 120\n",
        "\n",
        "for i in range(101):\n",
        "  possible_labels.append(str(i))\n",
        "\n",
        "X_train, Y_train = getData(\"mediamill/mediamill_train.csv\", possible_labels, total_attributes)\n",
        "X_test, Y_test = getData(\"mediamill/mediamill_test.csv\", possible_labels, total_attributes)\n",
        "\n",
        "# Tive que reduzir o cunjunto de dados pois estava demorando muito o treinamento\n",
        "X_train = X_train[:1000]\n",
        "Y_train = Y_train[:1000]\n",
        "\n",
        "X_test = X_test[:200]\n",
        "Y_test = Y_test[:200]\n",
        "\n",
        "for classifier in classifiers:\n",
        "  print(classifier[\"name\"], execute(classifier[\"model\"], X_train, X_test, Y_train, Y_test))"
      ]
    }
  ],
  "metadata": {
    "colab": {
      "name": "Trabalho1.ipynb",
      "provenance": []
    },
    "interpreter": {
      "hash": "c9a8e7a37363bcf7f7834afbb21e5caff3afdecb748e2a4bad18eed61cb1d104"
    },
    "kernelspec": {
      "display_name": "Python 3.9.7 ('.venv': venv)",
      "language": "python",
      "name": "python3"
    },
    "language_info": {
      "codemirror_mode": {
        "name": "ipython",
        "version": 3
      },
      "file_extension": ".py",
      "mimetype": "text/x-python",
      "name": "python",
      "nbconvert_exporter": "python",
      "pygments_lexer": "ipython3",
      "version": "3.9.7"
    },
    "orig_nbformat": 4
  },
  "nbformat": 4,
  "nbformat_minor": 0
}
